{
 "cells": [
  {
   "cell_type": "code",
   "execution_count": 15,
   "metadata": {},
   "outputs": [
    {
     "name": "stdout",
     "output_type": "stream",
     "text": [
      "Requirement already satisfied: openai-whisper in c:\\users\\thanakornnemo\\anaconda3\\envs\\voicecraft\\lib\\site-packages (20240930)\n",
      "Requirement already satisfied: numba in c:\\users\\thanakornnemo\\anaconda3\\envs\\voicecraft\\lib\\site-packages (from openai-whisper) (0.60.0)\n",
      "Requirement already satisfied: numpy in c:\\users\\thanakornnemo\\anaconda3\\envs\\voicecraft\\lib\\site-packages (from openai-whisper) (1.26.4)\n",
      "Requirement already satisfied: torch in c:\\users\\thanakornnemo\\anaconda3\\envs\\voicecraft\\lib\\site-packages (from openai-whisper) (2.0.1)\n",
      "Requirement already satisfied: tqdm in c:\\users\\thanakornnemo\\anaconda3\\envs\\voicecraft\\lib\\site-packages (from openai-whisper) (4.66.6)\n",
      "Requirement already satisfied: more-itertools in c:\\users\\thanakornnemo\\anaconda3\\envs\\voicecraft\\lib\\site-packages (from openai-whisper) (10.5.0)\n",
      "Requirement already satisfied: tiktoken in c:\\users\\thanakornnemo\\anaconda3\\envs\\voicecraft\\lib\\site-packages (from openai-whisper) (0.8.0)\n",
      "Requirement already satisfied: llvmlite<0.44,>=0.43.0dev0 in c:\\users\\thanakornnemo\\anaconda3\\envs\\voicecraft\\lib\\site-packages (from numba->openai-whisper) (0.43.0)\n",
      "Requirement already satisfied: regex>=2022.1.18 in c:\\users\\thanakornnemo\\anaconda3\\envs\\voicecraft\\lib\\site-packages (from tiktoken->openai-whisper) (2024.9.11)\n",
      "Requirement already satisfied: requests>=2.26.0 in c:\\users\\thanakornnemo\\anaconda3\\envs\\voicecraft\\lib\\site-packages (from tiktoken->openai-whisper) (2.32.3)\n",
      "Requirement already satisfied: filelock in c:\\users\\thanakornnemo\\anaconda3\\envs\\voicecraft\\lib\\site-packages (from torch->openai-whisper) (3.16.1)\n",
      "Requirement already satisfied: typing-extensions in c:\\users\\thanakornnemo\\anaconda3\\envs\\voicecraft\\lib\\site-packages (from torch->openai-whisper) (4.12.2)\n",
      "Requirement already satisfied: sympy in c:\\users\\thanakornnemo\\anaconda3\\envs\\voicecraft\\lib\\site-packages (from torch->openai-whisper) (1.13.3)\n",
      "Requirement already satisfied: networkx in c:\\users\\thanakornnemo\\anaconda3\\envs\\voicecraft\\lib\\site-packages (from torch->openai-whisper) (3.2.1)\n",
      "Requirement already satisfied: jinja2 in c:\\users\\thanakornnemo\\anaconda3\\envs\\voicecraft\\lib\\site-packages (from torch->openai-whisper) (3.1.4)\n",
      "Requirement already satisfied: colorama in c:\\users\\thanakornnemo\\anaconda3\\envs\\voicecraft\\lib\\site-packages (from tqdm->openai-whisper) (0.4.6)\n",
      "Requirement already satisfied: charset-normalizer<4,>=2 in c:\\users\\thanakornnemo\\anaconda3\\envs\\voicecraft\\lib\\site-packages (from requests>=2.26.0->tiktoken->openai-whisper) (3.4.0)\n",
      "Requirement already satisfied: idna<4,>=2.5 in c:\\users\\thanakornnemo\\anaconda3\\envs\\voicecraft\\lib\\site-packages (from requests>=2.26.0->tiktoken->openai-whisper) (3.10)\n",
      "Requirement already satisfied: urllib3<3,>=1.21.1 in c:\\users\\thanakornnemo\\anaconda3\\envs\\voicecraft\\lib\\site-packages (from requests>=2.26.0->tiktoken->openai-whisper) (2.2.3)\n",
      "Requirement already satisfied: certifi>=2017.4.17 in c:\\users\\thanakornnemo\\anaconda3\\envs\\voicecraft\\lib\\site-packages (from requests>=2.26.0->tiktoken->openai-whisper) (2024.8.30)\n",
      "Requirement already satisfied: MarkupSafe>=2.0 in c:\\users\\thanakornnemo\\anaconda3\\envs\\voicecraft\\lib\\site-packages (from jinja2->torch->openai-whisper) (2.1.5)\n",
      "Requirement already satisfied: mpmath<1.4,>=1.1.0 in c:\\users\\thanakornnemo\\anaconda3\\envs\\voicecraft\\lib\\site-packages (from sympy->torch->openai-whisper) (1.3.0)\n"
     ]
    }
   ],
   "source": [
    "!pip install openai-whisper"
   ]
  },
  {
   "cell_type": "code",
   "execution_count": 8,
   "metadata": {},
   "outputs": [
    {
     "name": "stdout",
     "output_type": "stream",
     "text": [
      "2.0.1+cpu\n",
      "False\n",
      "None\n",
      "cpu\n"
     ]
    }
   ],
   "source": [
    "import torch\n",
    "print(torch.__version__)              # ตรวจสอบเวอร์ชัน PyTorch\n",
    "print(torch.cuda.is_available())      # ตรวจสอบการรองรับ GPU\n",
    "print(torch.version.cuda)             # ตรวจสอบเวอร์ชัน CUDA ที่ใช้งานได้\n",
    "device = torch.device(\"cuda\" if torch.cuda.is_available() else \"cpu\")\n",
    "print(device)"
   ]
  },
  {
   "cell_type": "code",
   "execution_count": 5,
   "metadata": {},
   "outputs": [
    {
     "name": "stdout",
     "output_type": "stream",
     "text": [
      "ผมประธับใจกับความเป็นมิตของความไทยมากครับคุณคิดว่าอะไรคือความธาไทยที่สุดสับรับเช้าตั้งชาในไทยวันนี้ออกาจดีมากเลยนะครับ\n"
     ]
    }
   ],
   "source": [
    "import whisper\n",
    "\n",
    "model = whisper.load_model(\"base\")\n",
    "\n",
    "# Transcribe the .wav file\n",
    "result = model.transcribe(\"./demo/Mingall.wav\")\n",
    "\n",
    "# Print the transcription result\n",
    "print(result[\"text\"])\n"
   ]
  }
 ],
 "metadata": {
  "kernelspec": {
   "display_name": "voicecraft",
   "language": "python",
   "name": "python3"
  },
  "language_info": {
   "codemirror_mode": {
    "name": "ipython",
    "version": 3
   },
   "file_extension": ".py",
   "mimetype": "text/x-python",
   "name": "python",
   "nbconvert_exporter": "python",
   "pygments_lexer": "ipython3",
   "version": "3.9.20"
  }
 },
 "nbformat": 4,
 "nbformat_minor": 2
}
